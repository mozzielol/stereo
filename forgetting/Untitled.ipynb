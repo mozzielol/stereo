{
 "cells": [
  {
   "cell_type": "code",
   "execution_count": 1,
   "metadata": {},
   "outputs": [],
   "source": [
    "%load_ext autoreload\n",
    "%autoreload 2"
   ]
  },
  {
   "cell_type": "code",
   "execution_count": 10,
   "metadata": {},
   "outputs": [],
   "source": [
    "import tensorflow as tf\n",
    "import sonnet as snt\n",
    "\n",
    "import numpy as np\n",
    "from bnn.model_utils import *\n",
    "import matplotlib.pyplot as plt\n",
    "from cycler import cycler\n",
    "from bnn.BNN_MLP import *\n",
    "from copy import deepcopy"
   ]
  },
  {
   "cell_type": "code",
   "execution_count": 11,
   "metadata": {},
   "outputs": [],
   "source": [
    "def permute(task, seed):\n",
    "    np.random.seed(seed)\n",
    "    perm = np.random.permutation(task.train._images.shape[1])\n",
    "    permuted = deepcopy(task)\n",
    "    permuted.train._images = permuted.train._images[:, perm]\n",
    "    permuted.test._images = permuted.test._images[:, perm]\n",
    "    permuted.validation._images = permuted.validation._images[:, perm]\n",
    "    return permuted\n",
    "\n",
    "def make_tf_data_batch(x, y, shuffle=True):\n",
    "    # create Dataset objects using the data previously downloaded\n",
    "    dataset_train = tf.data.Dataset.from_tensor_slices((x, y.astype(np.int32)))\n",
    "\n",
    "    if shuffle:\n",
    "        dataset_train = dataset_train.shuffle(100000)\n",
    "\n",
    "    # we shuffle the data and sample repeatedly batches for training\n",
    "    batched_dataset_train = dataset_train.repeat().batch(BATCH_SIZE)\n",
    "    # create iterator to retrieve batches\n",
    "    iterator_train = batched_dataset_train.make_one_shot_iterator()\n",
    "    # get a training batch of images and labels\n",
    "    (batch_train_images, batch_train_labels) = iterator_train.get_next()\n",
    "\n",
    "    return batch_train_images, batch_train_labels\n",
    "\n",
    "def get_training_params(train_set,train_label,test_set,test_label):\n",
    "    out, log_probs, nll = net(train_set, targets=train_label, sample=True, n_samples=1, \n",
    "                              loss_function=lambda y, y_target: tf.nn.sparse_softmax_cross_entropy_with_logits(labels=y_target, logits=y))\n",
    "\n",
    "    num_batches = (len(mnist.train.labels)//BATCH_SIZE)\n",
    "    loss = 0.01*log_probs/num_batches + nll\n",
    "    optim = tf.train.AdamOptimizer(learning_rate=0.001)\n",
    "    train_op = optim.minimize( loss )\n",
    "\n",
    "    out_test_deterministic, _, _ = net(test_set, sample=False, loss_function=None)\n",
    "    prediction = tf.cast(tf.argmax(out_test_deterministic, 1), tf.int32)\n",
    "    equality = tf.equal(prediction, test_label)\n",
    "    accuracy = tf.reduce_mean(tf.cast(equality, tf.float32))\n",
    "    \n",
    "    return train_op, loss,accuracy\n"
   ]
  },
  {
   "cell_type": "code",
   "execution_count": 12,
   "metadata": {},
   "outputs": [],
   "source": [
    "def train(net,loss,train_op,accuracy,loss2=None,accuracy2=None):\n",
    "    for i in range(TRAINING_STEPS):\n",
    "        l, _ = sess.run([loss, train_op])\n",
    "        l2 = None\n",
    "        if loss2 is not None:\n",
    "            l2 = sess.run([loss2])\n",
    "        if i>=1000 and i%1000==0:\n",
    "            # Test accuracy\n",
    "            avg_acc = 0.0\n",
    "            avg_acc2 = 0.0\n",
    "            num_iters = len(mnist.test.labels)//BATCH_SIZE\n",
    "            for test_iter in range(num_iters):\n",
    "                acc = sess.run(accuracy)\n",
    "                avg_acc += acc\n",
    "                if accuracy2 is not None:\n",
    "                    acc2 = sess.run(accuracy2)\n",
    "                    avg_acc2 += acc2\n",
    "\n",
    "            avg_acc /= num_iters\n",
    "            avg_acc2 /= num_iters\n",
    "            print(\"Iteration \", i, \"loss: \", l, \"accuracy: \", avg_acc, \"loss2: \", l2,\"accuracy2: \", avg_acc2)\n",
    "            \n",
    "\n",
    "            ## Histogram of standard deviations (w and b)\n",
    "            all_stds = []\n",
    "            for l in net.layers:\n",
    "                w_sigma = np.reshape( sess.run(l.w_sigma), [-1] ).tolist()\n",
    "                b_sigma = np.reshape( sess.run(l.b_sigma), [-1] ).tolist()\n",
    "                all_stds += w_sigma + b_sigma\n",
    "\n",
    "            n = TRAINING_STEPS//1000\n",
    "            plt.rc('axes', prop_cycle=cycler('color', [plt.get_cmap('inferno')(1. * float(i)/n) for i in range(n)]))\n",
    "            lbl = \"\"\n",
    "            if i==1000:\n",
    "                lbl = \"t=1000\"\n",
    "            elif i==1000*(TRAINING_STEPS//1000):\n",
    "                lbl = \"t=\"+str(1000*(TRAINING_STEPS//1000))\n",
    "            plt.hist(all_stds, 100, alpha=0.3, label=lbl)"
   ]
  },
  {
   "cell_type": "code",
   "execution_count": 13,
   "metadata": {},
   "outputs": [],
   "source": [
    "def test(net,loss,accuracy,loss2,accuracy2):\n",
    "    for i in range(10):\n",
    "        l, l2 = sess.run([loss, loss2])\n",
    "        \n",
    "        # Test accuracy\n",
    "        avg_acc = 0.0\n",
    "        avg_acc2 = 0.0\n",
    "        num_iters = len(mnist.test.labels)//BATCH_SIZE\n",
    "        for test_iter in range(num_iters):\n",
    "            acc = sess.run(accuracy)\n",
    "            avg_acc += acc\n",
    "\n",
    "            acc2 = sess.run(accuracy2)\n",
    "            avg_acc2 += acc2\n",
    "\n",
    "        avg_acc /= num_iters\n",
    "        avg_acc2 /= num_iters\n",
    "        print(\"Iteration \", i, \"loss: \", l, \"accuracy: \", avg_acc, \"loss2: \", l2,\"accuracy2: \", avg_acc2)\n",
    "\n"
   ]
  },
  {
   "cell_type": "code",
   "execution_count": 14,
   "metadata": {},
   "outputs": [],
   "source": [
    "BATCH_SIZE = 64\n",
    "TRAINING_STEPS = 2001"
   ]
  },
  {
   "cell_type": "code",
   "execution_count": 15,
   "metadata": {},
   "outputs": [
    {
     "name": "stdout",
     "output_type": "stream",
     "text": [
      "Extracting MNIST-data/train-images-idx3-ubyte.gz\n",
      "Extracting MNIST-data/train-labels-idx1-ubyte.gz\n",
      "Extracting MNIST-data/t10k-images-idx3-ubyte.gz\n",
      "Extracting MNIST-data/t10k-labels-idx1-ubyte.gz\n"
     ]
    }
   ],
   "source": [
    "mnist = tf.contrib.learn.datasets.load_dataset(\"mnist\")\n",
    "mnist2 = permute(mnist,0)\n",
    "\n",
    "#train_x, train_y = make_tf_data_batch(mnist.train.images, mnist.train.labels)\n",
    "#test_x, test_y = make_tf_data_batch(mnist.test.images, mnist.test.labels, shuffle=False)\n",
    "#train_x2, train_y2 = make_tf_data_batch(mnist2.train.images, mnist2.train.labels)\n",
    "#test_x2, test_y2 = make_tf_data_batch(mnist2.test.images, mnist2.test.labels, shuffle=False)\n",
    "\n",
    "train_x, train_y = make_tf_data_batch(mnist.train.images[mnist.train.labels<5], mnist.train.labels[mnist.train.labels<5])\n",
    "test_x, test_y = make_tf_data_batch(mnist.test.images[mnist.test.labels<5], mnist.test.labels[mnist.test.labels<5], shuffle=False)\n",
    "train_x2, train_y2 = make_tf_data_batch(mnist.train.images[mnist.train.labels>4], mnist.train.labels[mnist.train.labels>4])\n",
    "test_x2, test_y2 = make_tf_data_batch(mnist.test.images[mnist.test.labels>4], mnist.test.labels[mnist.test.labels>4], shuffle=False)"
   ]
  },
  {
   "cell_type": "code",
   "execution_count": 16,
   "metadata": {},
   "outputs": [
    {
     "ename": "TypeError",
     "evalue": "super(type, obj): obj must be an instance or subtype of type",
     "output_type": "error",
     "traceback": [
      "\u001b[0;31m---------------------------------------------------------------------------\u001b[0m",
      "\u001b[0;31mTypeError\u001b[0m                                 Traceback (most recent call last)",
      "\u001b[0;32m<ipython-input-16-a8ede4b3389a>\u001b[0m in \u001b[0;36m<module>\u001b[0;34m\u001b[0m\n\u001b[1;32m      1\u001b[0m net = BNN_MLP(n_inputs=784, n_outputs=10, hidden_units=[200, 200], init_mu=0.0, init_rho=-3.0, \n\u001b[0;32m----> 2\u001b[0;31m               activation=tf.nn.relu, last_activation=tf.identity)\n\u001b[0m",
      "\u001b[0;32m~/Desktop/bnn/forgetting/bnn/BNN_MLP.py\u001b[0m in \u001b[0;36m__init__\u001b[0;34m(self, n_inputs, n_outputs, hidden_units, init_mu, init_rho, activation, last_activation, prior_dist, name)\u001b[0m\n\u001b[1;32m     25\u001b[0m         \u001b[0mself\u001b[0m\u001b[0;34m.\u001b[0m\u001b[0mlayers\u001b[0m \u001b[0;34m=\u001b[0m \u001b[0;34m[\u001b[0m\u001b[0;34m]\u001b[0m\u001b[0;34m\u001b[0m\u001b[0;34m\u001b[0m\u001b[0m\n\u001b[1;32m     26\u001b[0m         \u001b[0;32mfor\u001b[0m \u001b[0mi\u001b[0m \u001b[0;32min\u001b[0m \u001b[0mrange\u001b[0m\u001b[0;34m(\u001b[0m\u001b[0;36m1\u001b[0m\u001b[0;34m,\u001b[0m \u001b[0mlen\u001b[0m\u001b[0;34m(\u001b[0m\u001b[0mhidden_units\u001b[0m\u001b[0;34m)\u001b[0m\u001b[0;34m)\u001b[0m\u001b[0;34m:\u001b[0m\u001b[0;34m\u001b[0m\u001b[0;34m\u001b[0m\u001b[0m\n\u001b[0;32m---> 27\u001b[0;31m             \u001b[0mself\u001b[0m\u001b[0;34m.\u001b[0m\u001b[0mlayers\u001b[0m\u001b[0;34m.\u001b[0m\u001b[0mappend\u001b[0m\u001b[0;34m(\u001b[0m \u001b[0mBNNLayer\u001b[0m\u001b[0;34m(\u001b[0m\u001b[0mhidden_units\u001b[0m\u001b[0;34m[\u001b[0m\u001b[0mi\u001b[0m\u001b[0;34m-\u001b[0m\u001b[0;36m1\u001b[0m\u001b[0;34m]\u001b[0m\u001b[0;34m,\u001b[0m \u001b[0mhidden_units\u001b[0m\u001b[0;34m[\u001b[0m\u001b[0mi\u001b[0m\u001b[0;34m]\u001b[0m\u001b[0;34m,\u001b[0m \u001b[0minit_mu\u001b[0m\u001b[0;34m=\u001b[0m\u001b[0minit_mu\u001b[0m\u001b[0;34m,\u001b[0m \u001b[0minit_rho\u001b[0m\u001b[0;34m=\u001b[0m\u001b[0minit_rho\u001b[0m\u001b[0;34m)\u001b[0m \u001b[0;34m)\u001b[0m\u001b[0;34m\u001b[0m\u001b[0;34m\u001b[0m\u001b[0m\n\u001b[0m\u001b[1;32m     28\u001b[0m \u001b[0;34m\u001b[0m\u001b[0m\n\u001b[1;32m     29\u001b[0m \u001b[0;34m\u001b[0m\u001b[0m\n",
      "\u001b[0;32m~/Desktop/bnn/forgetting/bnn/BNNLayer.py\u001b[0m in \u001b[0;36m__init__\u001b[0;34m(self, n_inputs, n_outputs, init_mu, init_rho, name)\u001b[0m\n\u001b[1;32m     12\u001b[0m \u001b[0;34m\u001b[0m\u001b[0m\n\u001b[1;32m     13\u001b[0m     \u001b[0;32mdef\u001b[0m \u001b[0m__init__\u001b[0m\u001b[0;34m(\u001b[0m\u001b[0mself\u001b[0m\u001b[0;34m,\u001b[0m \u001b[0mn_inputs\u001b[0m\u001b[0;34m,\u001b[0m \u001b[0mn_outputs\u001b[0m\u001b[0;34m,\u001b[0m \u001b[0minit_mu\u001b[0m\u001b[0;34m=\u001b[0m\u001b[0;36m0.0\u001b[0m\u001b[0;34m,\u001b[0m \u001b[0minit_rho\u001b[0m\u001b[0;34m=\u001b[0m\u001b[0;36m0.0\u001b[0m\u001b[0;34m,\u001b[0m \u001b[0mname\u001b[0m\u001b[0;34m=\u001b[0m\u001b[0;34m\"BNNLayer\"\u001b[0m\u001b[0;34m)\u001b[0m\u001b[0;34m:\u001b[0m\u001b[0;34m\u001b[0m\u001b[0;34m\u001b[0m\u001b[0m\n\u001b[0;32m---> 14\u001b[0;31m         \u001b[0msuper\u001b[0m\u001b[0;34m(\u001b[0m\u001b[0mBNNLayer\u001b[0m\u001b[0;34m,\u001b[0m \u001b[0mself\u001b[0m\u001b[0;34m)\u001b[0m\u001b[0;34m.\u001b[0m\u001b[0m__init__\u001b[0m\u001b[0;34m(\u001b[0m\u001b[0mname\u001b[0m\u001b[0;34m=\u001b[0m\u001b[0mname\u001b[0m\u001b[0;34m)\u001b[0m\u001b[0;34m\u001b[0m\u001b[0;34m\u001b[0m\u001b[0m\n\u001b[0m\u001b[1;32m     15\u001b[0m \u001b[0;34m\u001b[0m\u001b[0m\n\u001b[1;32m     16\u001b[0m         \u001b[0mself\u001b[0m\u001b[0;34m.\u001b[0m\u001b[0mn_inputs\u001b[0m \u001b[0;34m=\u001b[0m \u001b[0mn_inputs\u001b[0m\u001b[0;34m\u001b[0m\u001b[0;34m\u001b[0m\u001b[0m\n",
      "\u001b[0;31mTypeError\u001b[0m: super(type, obj): obj must be an instance or subtype of type"
     ]
    }
   ],
   "source": [
    "net = BNN_MLP(n_inputs=784, n_outputs=10, hidden_units=[200, 200], init_mu=0.0, init_rho=-3.0, \n",
    "              activation=tf.nn.relu, last_activation=tf.identity)"
   ]
  },
  {
   "cell_type": "code",
   "execution_count": null,
   "metadata": {},
   "outputs": [],
   "source": [
    "train_op_1, loss_1, accuracy_1 = get_training_params(train_x,train_y,test_x,test_y)\n",
    "train_op_2, loss_2, accuracy_2 = get_training_params(train_x2,train_y2,test_x2,test_y2)"
   ]
  },
  {
   "cell_type": "code",
   "execution_count": null,
   "metadata": {},
   "outputs": [],
   "source": [
    "sess = tf.InteractiveSession()\n",
    "sess.run( tf.global_variables_initializer() )"
   ]
  },
  {
   "cell_type": "code",
   "execution_count": 11,
   "metadata": {},
   "outputs": [
    {
     "name": "stdout",
     "output_type": "stream",
     "text": [
      "Iteration  1000 loss:  None accuracy:  0.9790665064102564 loss2:  None accuracy2:  0.0\n",
      "Iteration  2000 loss:  None accuracy:  0.9825721153846154 loss2:  None accuracy2:  0.0\n"
     ]
    },
    {
     "data": {
      "image/png": "[encoded data removed]",
      "text/plain": [
       "<Figure size 432x288 with 1 Axes>"
      ]
     },
     "metadata": {
      "needs_background": "light"
     },
     "output_type": "display_data"
    }
   ],
   "source": [
    "train(net,train_op_1, loss_1, accuracy_1)"
   ]
  },
  {
   "cell_type": "code",
   "execution_count": 12,
   "metadata": {},
   "outputs": [],
   "source": [
    "params1 = save_model_params(net,sess)"
   ]
  },
  {
   "cell_type": "code",
   "execution_count": 13,
   "metadata": {},
   "outputs": [
    {
     "name": "stdout",
     "output_type": "stream",
     "text": [
      "Iteration  1000 loss:  None accuracy:  0.9155649038461539 loss2:  [nan] accuracy2:  0.0\n",
      "Iteration  2000 loss:  None accuracy:  0.9545272435897436 loss2:  [nan] accuracy2:  0.0\n"
     ]
    },
    {
     "data": {
      "image/png": "[encoded data removed]",
      "text/plain": [
       "<Figure size 432x288 with 1 Axes>"
      ]
     },
     "metadata": {
      "needs_background": "light"
     },
     "output_type": "display_data"
    }
   ],
   "source": [
    "train(net,train_op_2,loss_1,accuracy_1, loss_2, accuracy_2)"
   ]
  },
  {
   "cell_type": "code",
   "execution_count": 14,
   "metadata": {},
   "outputs": [],
   "source": [
    "params2 = save_model_params(net,sess)"
   ]
  },
  {
   "cell_type": "code",
   "execution_count": 15,
   "metadata": {},
   "outputs": [
    {
     "name": "stdout",
     "output_type": "stream",
     "text": [
      "<tf.Variable 'Variable:0' shape=(784, 200) dtype=float32_ref>\n",
      "<tf.Variable 'Variable_1:0' shape=(784, 200) dtype=float32_ref>\n",
      "<tf.Variable 'Variable_2:0' shape=(200,) dtype=float32_ref>\n",
      "<tf.Variable 'Variable_3:0' shape=(200,) dtype=float32_ref>\n",
      "<tf.Variable 'Variable_4:0' shape=(200, 200) dtype=float32_ref>\n",
      "<tf.Variable 'Variable_5:0' shape=(200, 200) dtype=float32_ref>\n",
      "<tf.Variable 'Variable_6:0' shape=(200,) dtype=float32_ref>\n",
      "<tf.Variable 'Variable_7:0' shape=(200,) dtype=float32_ref>\n",
      "<tf.Variable 'Variable_8:0' shape=(200, 10) dtype=float32_ref>\n",
      "<tf.Variable 'Variable_9:0' shape=(200, 10) dtype=float32_ref>\n",
      "<tf.Variable 'Variable_10:0' shape=(10,) dtype=float32_ref>\n",
      "<tf.Variable 'Variable_11:0' shape=(10,) dtype=float32_ref>\n"
     ]
    }
   ],
   "source": [
    "set_new_params(net,params1,params2,sess)"
   ]
  },
  {
   "cell_type": "code",
   "execution_count": 18,
   "metadata": {},
   "outputs": [
    {
     "name": "stdout",
     "output_type": "stream",
     "text": [
      "Iteration  0 loss:  nan accuracy:  0.6039663461538461 loss2:  nan accuracy2:  0.897636217948718\n",
      "Iteration  1 loss:  nan accuracy:  0.6041666666666666 loss2:  nan accuracy2:  0.8983373397435898\n",
      "Iteration  2 loss:  nan accuracy:  0.6039663461538461 loss2:  nan accuracy2:  0.8981370192307693\n",
      "Iteration  3 loss:  nan accuracy:  0.6031650641025641 loss2:  nan accuracy2:  0.8977363782051282\n",
      "Iteration  4 loss:  nan accuracy:  0.6018629807692307 loss2:  nan accuracy2:  0.8981370192307693\n",
      "Iteration  5 loss:  nan accuracy:  0.6002604166666666 loss2:  nan accuracy2:  0.8975360576923077\n",
      "Iteration  6 loss:  nan accuracy:  0.6020633012820513 loss2:  nan accuracy2:  0.8971354166666666\n",
      "Iteration  7 loss:  nan accuracy:  0.604667467948718 loss2:  nan accuracy2:  0.8959334935897436\n",
      "Iteration  8 loss:  nan accuracy:  0.6043669871794872 loss2:  nan accuracy2:  0.8940304487179487\n",
      "Iteration  9 loss:  nan accuracy:  0.6031650641025641 loss2:  nan accuracy2:  0.8949318910256411\n"
     ]
    }
   ],
   "source": [
    "test(net,loss_1,accuracy_1,loss_2,accuracy_2)"
   ]
  },
  {
   "cell_type": "code",
   "execution_count": null,
   "metadata": {},
   "outputs": [],
   "source": []
  },
  {
   "cell_type": "code",
   "execution_count": null,
   "metadata": {},
   "outputs": [],
   "source": []
  },
  {
   "cell_type": "code",
   "execution_count": null,
   "metadata": {},
   "outputs": [],
   "source": []
  },
  {
   "cell_type": "code",
   "execution_count": null,
   "metadata": {},
   "outputs": [],
   "source": []
  },
  {
   "cell_type": "code",
   "execution_count": null,
   "metadata": {},
   "outputs": [],
   "source": []
  },
  {
   "cell_type": "code",
   "execution_count": null,
   "metadata": {},
   "outputs": [],
   "source": []
  },
  {
   "cell_type": "code",
   "execution_count": null,
   "metadata": {},
   "outputs": [],
   "source": []
  }
 ],
 "metadata": {
  "kernelspec": {
   "display_name": "Python 3",
   "language": "python",
   "name": "python3"
  },
  "language_info": {
   "codemirror_mode": {
    "name": "ipython",
    "version": 3
   },
   "file_extension": ".py",
   "mimetype": "text/x-python",
   "name": "python",
   "nbconvert_exporter": "python",
   "pygments_lexer": "ipython3",
   "version": "3.6.8"
  }
 },
 "nbformat": 4,
 "nbformat_minor": 2
}
