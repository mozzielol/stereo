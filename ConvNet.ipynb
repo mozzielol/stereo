{
 "cells": [
  {
   "cell_type": "code",
   "execution_count": 1,
   "metadata": {},
   "outputs": [],
   "source": [
    "%load_ext autoreload\n",
    "%autoreload 2"
   ]
  },
  {
   "cell_type": "code",
   "execution_count": 2,
   "metadata": {},
   "outputs": [
    {
     "name": "stdout",
     "output_type": "stream",
     "text": [
      "\n",
      "WARNING: The TensorFlow contrib module will not be included in TensorFlow 2.0.\n",
      "For more information, please see:\n",
      "  * https://github.com/tensorflow/community/blob/master/rfcs/20180907-contrib-sunset.md\n",
      "  * https://github.com/tensorflow/addons\n",
      "If you depend on functionality not listed there, please file an issue.\n",
      "\n"
     ]
    },
    {
     "name": "stderr",
     "output_type": "stream",
     "text": [
      "Using TensorFlow backend.\n"
     ]
    }
   ],
   "source": [
    "import tensorflow as tf\n",
    "import sonnet as snt\n",
    "import numpy as np\n",
    "from bnn.model_utils import *\n",
    "import matplotlib.pyplot as plt\n",
    "from cycler import cycler\n",
    "from bnn.BNN_Conv import *\n",
    "from bnn.utils import *\n",
    "from copy import deepcopy\n",
    "from tensorflow.examples.tutorials.mnist import input_data\n",
    "from bnn.train_utils import *"
   ]
  },
  {
   "cell_type": "code",
   "execution_count": 3,
   "metadata": {},
   "outputs": [],
   "source": [
    "output_dim = 10\n",
    "#task_labels = [[0,1], [2,3], [4,5], [6,7], [8,9]]\n",
    "task_labels = [[0,1,2,3,4], [5,6,7,8,9]]\n"
   ]
  },
  {
   "cell_type": "code",
   "execution_count": null,
   "metadata": {},
   "outputs": [],
   "source": [
    "x_placeholder = tf.placeholder(tf.float32, shape=[None, 28,28,1])"
   ]
  },
  {
   "cell_type": "code",
   "execution_count": null,
   "metadata": {},
   "outputs": [
    {
     "name": "stdout",
     "output_type": "stream",
     "text": [
      "WARNING:tensorflow:From /anaconda3/envs/tensorflow/lib/python3.6/site-packages/tensorflow/python/framework/op_def_library.py:263: colocate_with (from tensorflow.python.framework.ops) is deprecated and will be removed in a future version.\n",
      "Instructions for updating:\n",
      "Colocations handled automatically by placer.\n",
      "WARNING:tensorflow:From /Users/lihonglin/Desktop/paper/NIPS/bayes/bnn/BNNConvLayer.py:26: Normal.__init__ (from tensorflow.python.ops.distributions.normal) is deprecated and will be removed after 2019-01-01.\n",
      "Instructions for updating:\n",
      "The TensorFlow Distributions library has moved to TensorFlow Probability (https://github.com/tensorflow/probability). You should update all references to use `tfp.distributions` instead of `tf.distributions`.\n",
      "WARNING:tensorflow:From /anaconda3/envs/tensorflow/lib/python3.6/site-packages/tensorflow/python/ops/distributions/normal.py:160: Distribution.__init__ (from tensorflow.python.ops.distributions.distribution) is deprecated and will be removed after 2019-01-01.\n",
      "Instructions for updating:\n",
      "The TensorFlow Distributions library has moved to TensorFlow Probability (https://github.com/tensorflow/probability). You should update all references to use `tfp.distributions` instead of `tf.distributions`.\n",
      "WARNING:tensorflow:From /Users/lihonglin/Desktop/paper/NIPS/bayes/bnn/BNNConvLayer.py:137: kl_divergence (from tensorflow.python.ops.distributions.kullback_leibler) is deprecated and will be removed after 2019-01-01.\n",
      "Instructions for updating:\n",
      "The TensorFlow Distributions library has moved to TensorFlow Probability (https://github.com/tensorflow/probability). You should update all references to use `tfp.distributions` instead of `tf.distributions`.\n"
     ]
    }
   ],
   "source": [
    "net = BNN_Conv(x_placeholder, n_outputs=10, init_mu=0.0, init_rho=-3.0, \n",
    "              activation=tf.nn.relu, last_activation=tf.nn.softmax,num_task=2)"
   ]
  },
  {
   "cell_type": "code",
   "execution_count": null,
   "metadata": {},
   "outputs": [
    {
     "data": {
      "text/plain": [
       "8"
      ]
     },
     "execution_count": 6,
     "metadata": {},
     "output_type": "execute_result"
    }
   ],
   "source": [
    "len(net.tensor_mean)"
   ]
  },
  {
   "cell_type": "code",
   "execution_count": null,
   "metadata": {},
   "outputs": [
    {
     "name": "stdout",
     "output_type": "stream",
     "text": [
      "Initialization ... \n",
      "WARNING:tensorflow:From /Users/lihonglin/Desktop/paper/NIPS/bayes/bnn/model_utils.py:60: softmax_cross_entropy_with_logits (from tensorflow.python.ops.nn_ops) is deprecated and will be removed in a future version.\n",
      "Instructions for updating:\n",
      "\n",
      "Future major versions of TensorFlow will allow gradients to flow\n",
      "into the labels input on backprop by default.\n",
      "\n",
      "See `tf.nn.softmax_cross_entropy_with_logits_v2`.\n",
      "\n",
      "WARNING:tensorflow:From /anaconda3/envs/tensorflow/lib/python3.6/site-packages/tensorflow/python/ops/math_ops.py:3066: to_int32 (from tensorflow.python.ops.math_ops) is deprecated and will be removed in a future version.\n",
      "Instructions for updating:\n",
      "Use tf.cast instead.\n"
     ]
    }
   ],
   "source": [
    "train_task = construct_split_mnist(task_labels,flatten=False)\n",
    "test_task = construct_split_mnist(task_labels,split='test',flatten=False)\n",
    "train_init,test_init = load_iterator(net,train_task,test_task)"
   ]
  },
  {
   "cell_type": "code",
   "execution_count": null,
   "metadata": {},
   "outputs": [],
   "source": [
    "sess = tf.InteractiveSession()\n",
    "sess.run( tf.global_variables_initializer() )"
   ]
  },
  {
   "cell_type": "code",
   "execution_count": null,
   "metadata": {},
   "outputs": [],
   "source": [
    "num_epochs = 20"
   ]
  },
  {
   "cell_type": "markdown",
   "metadata": {},
   "source": [
    "# Conventional Bayesian Neural Network"
   ]
  },
  {
   "cell_type": "code",
   "execution_count": null,
   "metadata": {},
   "outputs": [],
   "source": [
    "common_train(net,sess,num_epochs,20,train_task,test_task,train_init,test_init,lams=[0.01])"
   ]
  },
  {
   "cell_type": "markdown",
   "metadata": {},
   "source": [
    "# Bayesian Sequential Inference (Proposed)(To be checked)"
   ]
  },
  {
   "cell_type": "code",
   "execution_count": null,
   "metadata": {},
   "outputs": [],
   "source": [
    "common_train(net,sess,num_epochs,20,train_task,test_task,train_init,test_init,lams=[0.01],sequential=True)"
   ]
  },
  {
   "cell_type": "code",
   "execution_count": null,
   "metadata": {},
   "outputs": [],
   "source": [
    "common_train(net,sess,num_epochs,20,train_task,test_task,train_init,test_init,lams=[0.001],sequential=True)"
   ]
  },
  {
   "cell_type": "markdown",
   "metadata": {},
   "source": [
    "# Incremental Moment Matching (IMM)"
   ]
  },
  {
   "cell_type": "markdown",
   "metadata": {},
   "source": [
    "## 1. Mean-IMM"
   ]
  },
  {
   "cell_type": "markdown",
   "metadata": {},
   "source": [
    "### (a) bayesian updating"
   ]
  },
  {
   "cell_type": "code",
   "execution_count": null,
   "metadata": {},
   "outputs": [],
   "source": [
    "imm_train(net,sess,num_epochs,20,train_task,test_task,train_init,test_init,lams=[0.0001],sequential=True,imm=True)"
   ]
  },
  {
   "cell_type": "code",
   "execution_count": null,
   "metadata": {},
   "outputs": [],
   "source": [
    "print(net.params_mean[0][0][0][0],net.params_mean[1][0][0][0],sess.run(net.tensor_mean[0][0][0]))"
   ]
  },
  {
   "cell_type": "code",
   "execution_count": null,
   "metadata": {},
   "outputs": [],
   "source": [
    "#1-0.47368421052631576 0.009921589105263"
   ]
  },
  {
   "cell_type": "code",
   "execution_count": null,
   "metadata": {},
   "outputs": [],
   "source": [
    "imm_train(net,sess,num_epochs,20,train_task,test_task,train_init,test_init,lams=[0.001],sequential=True,imm=True)"
   ]
  },
  {
   "cell_type": "markdown",
   "metadata": {},
   "source": [
    "### (b) no bayesian updating"
   ]
  },
  {
   "cell_type": "code",
   "execution_count": null,
   "metadata": {},
   "outputs": [],
   "source": [
    "imm_train(net,sess,num_epochs,20,train_task,test_task,train_init,test_init,lams=[0.0001],imm=True)"
   ]
  },
  {
   "cell_type": "code",
   "execution_count": null,
   "metadata": {},
   "outputs": [],
   "source": [
    "imm_train(net,sess,num_epochs,20,train_task,test_task,train_init,test_init,lams=[0.01],imm=True)"
   ]
  },
  {
   "cell_type": "markdown",
   "metadata": {},
   "source": [
    "## 2. Mode - IMM"
   ]
  },
  {
   "cell_type": "markdown",
   "metadata": {},
   "source": [
    "### (a) bayesian updating"
   ]
  },
  {
   "cell_type": "code",
   "execution_count": null,
   "metadata": {},
   "outputs": [],
   "source": [
    "imm_train(net,sess,num_epochs,20,train_task,test_task,train_init,test_init,lams=[0.0001],sequential=True,imm_mode=True)"
   ]
  },
  {
   "cell_type": "code",
   "execution_count": null,
   "metadata": {},
   "outputs": [],
   "source": [
    "imm_train(net,sess,num_epochs,20,train_task,test_task,train_init,test_init,lams=[0.001],sequential=True,imm_mode=True)"
   ]
  },
  {
   "cell_type": "markdown",
   "metadata": {},
   "source": [
    "### (b) no bayesian updating"
   ]
  },
  {
   "cell_type": "code",
   "execution_count": null,
   "metadata": {},
   "outputs": [],
   "source": [
    "imm_train(net,sess,num_epochs,20,train_task,test_task,train_init,test_init,lams=[0.0001],imm_mode=True)"
   ]
  },
  {
   "cell_type": "code",
   "execution_count": null,
   "metadata": {},
   "outputs": [],
   "source": [
    "imm_train(net,sess,num_epochs,20,train_task,test_task,train_init,test_init,lams=[0.001],imm_mode=True)"
   ]
  },
  {
   "cell_type": "markdown",
   "metadata": {},
   "source": [
    "# Bayesian IMM (proposed)"
   ]
  },
  {
   "cell_type": "markdown",
   "metadata": {},
   "source": [
    "## 1. mean_bayes_imm"
   ]
  },
  {
   "cell_type": "markdown",
   "metadata": {},
   "source": [
    "### (a) bayesian updating"
   ]
  },
  {
   "cell_type": "code",
   "execution_count": null,
   "metadata": {},
   "outputs": [],
   "source": [
    "bayes_imm_train(net,sess,num_epochs,20,train_task,test_task,train_init,test_init,lams=[0.0001],sequential=True,imm=True)"
   ]
  },
  {
   "cell_type": "code",
   "execution_count": null,
   "metadata": {},
   "outputs": [],
   "source": [
    "bayes_imm_train(net,sess,num_epochs,20,train_task,test_task,train_init,\n",
    "                test_init,lams=[0.001],sequential=True,imm=True)"
   ]
  },
  {
   "cell_type": "markdown",
   "metadata": {},
   "source": [
    "### (b) no bayesian updating"
   ]
  },
  {
   "cell_type": "code",
   "execution_count": null,
   "metadata": {},
   "outputs": [],
   "source": [
    "bayes_imm_train(net,sess,num_epochs,20,train_task,test_task,train_init,test_init,lams=[0.0001],imm=True)"
   ]
  },
  {
   "cell_type": "code",
   "execution_count": null,
   "metadata": {},
   "outputs": [],
   "source": [
    "bayes_imm_train(net,sess,num_epochs,20,train_task,test_task,train_init,test_init,lams=[0.001],imm=True)"
   ]
  },
  {
   "cell_type": "markdown",
   "metadata": {},
   "source": [
    "## 2. mean_bayes_imm_kl"
   ]
  },
  {
   "cell_type": "markdown",
   "metadata": {},
   "source": [
    "### (a) bayesian updating"
   ]
  },
  {
   "cell_type": "code",
   "execution_count": null,
   "metadata": {},
   "outputs": [],
   "source": [
    "bayes_imm_kl_train(net,sess,num_epochs,20,train_task,test_task,train_init,test_init,lams=[0.0001],\n",
    "                   sequential=True,imm=True)"
   ]
  },
  {
   "cell_type": "code",
   "execution_count": null,
   "metadata": {},
   "outputs": [],
   "source": [
    "bayes_imm_kl_train(net,sess,num_epochs,20,train_task,test_task,train_init,test_init,lams=[0.001],\n",
    "                   sequential=True,imm=True)"
   ]
  },
  {
   "cell_type": "markdown",
   "metadata": {},
   "source": [
    "### (b) no bayesian updating"
   ]
  },
  {
   "cell_type": "code",
   "execution_count": null,
   "metadata": {},
   "outputs": [],
   "source": [
    "bayes_imm_kl_train(net,sess,num_epochs,20,train_task,test_task,train_init,test_init,lams=[0.0001],\n",
    "                   imm=True)"
   ]
  },
  {
   "cell_type": "code",
   "execution_count": null,
   "metadata": {},
   "outputs": [],
   "source": [
    "bayes_imm_kl_train(net,sess,num_epochs,20,train_task,test_task,train_init,test_init,lams=[0.001],\n",
    "                   imm=True)"
   ]
  },
  {
   "cell_type": "markdown",
   "metadata": {},
   "source": [
    "## 3. mode_bayes_IMM"
   ]
  },
  {
   "cell_type": "code",
   "execution_count": null,
   "metadata": {},
   "outputs": [],
   "source": [
    "bayes_imm_train(net,sess,num_epochs,20,train_task,test_task,train_init,test_init,\n",
    "                lams=[0.0001],sequential=True,imm_mode=True)"
   ]
  },
  {
   "cell_type": "code",
   "execution_count": null,
   "metadata": {},
   "outputs": [],
   "source": [
    "bayes_imm_train(net,sess,num_epochs,20,train_task,test_task,train_init,test_init,lams=[0.001],sequential=True,\n",
    "                imm_mode=True)"
   ]
  },
  {
   "cell_type": "markdown",
   "metadata": {},
   "source": [
    "## 4. mode_bayes_IMM"
   ]
  },
  {
   "cell_type": "code",
   "execution_count": null,
   "metadata": {},
   "outputs": [],
   "source": [
    "bayes_imm_train_kl(net,sess,num_epochs,20,train_task,test_task,train_init,test_init,lams=[0.0001],sequential=True\n",
    "                   ,imm_mode=True)"
   ]
  },
  {
   "cell_type": "code",
   "execution_count": null,
   "metadata": {},
   "outputs": [],
   "source": [
    "bayes_imm_train_kl(net,sess,num_epochs,20,train_task,test_task,train_init,test_init,lams=[0.001],sequential=True,\n",
    "                   imm_mode=True)"
   ]
  },
  {
   "cell_type": "markdown",
   "metadata": {},
   "source": [
    "# Blur-EM"
   ]
  },
  {
   "cell_type": "code",
   "execution_count": null,
   "metadata": {},
   "outputs": [
    {
     "name": "stdout",
     "output_type": "stream",
     "text": [
      "Training start ...\n"
     ]
    }
   ],
   "source": [
    "em_train(net,sess,num_epochs,20,train_task,test_task,train_init,test_init,lams=[0.001],\n",
    "              sequential=False)"
   ]
  },
  {
   "cell_type": "code",
   "execution_count": null,
   "metadata": {},
   "outputs": [],
   "source": [
    "test_task[0][0].shape[0] + test_task[1][0].shape[0]"
   ]
  },
  {
   "cell_type": "code",
   "execution_count": null,
   "metadata": {},
   "outputs": [],
   "source": [
    "test_accs = {}\n",
    "param_idx = em_eval(net,sess,2,None,test_task,test_accs,record=False,disp=False)\n",
    "eval(net,sess,2,None,test_init,test_accs,params_idx=param_idx,record=False,disp=False)"
   ]
  },
  {
   "cell_type": "code",
   "execution_count": null,
   "metadata": {
    "scrolled": true
   },
   "outputs": [],
   "source": [
    "test_accs = {}\n",
    "em_eval(net,sess,2,None,test_task,test_accs,disp=False,record=False)"
   ]
  },
  {
   "cell_type": "code",
   "execution_count": null,
   "metadata": {},
   "outputs": [],
   "source": [
    "a = net.params_mean[0] \n",
    "b = net.params_mean[1]\n",
    "num = 0\n",
    "for idx in range(len(a)):\n",
    "    num += np.sum(a[idx]==b[idx])\n",
    "print(num)\n"
   ]
  },
  {
   "cell_type": "code",
   "execution_count": null,
   "metadata": {},
   "outputs": [],
   "source": [
    "print(net.num_merged_params, net.num_merged_params  / 42310 /2)\n"
   ]
  },
  {
   "cell_type": "code",
   "execution_count": null,
   "metadata": {},
   "outputs": [],
   "source": [
    "em_train(net,sess,num_epochs,20,train_task,test_task,train_init,test_init,lams=[0.0001],\n",
    "              sequential=True)"
   ]
  },
  {
   "cell_type": "code",
   "execution_count": null,
   "metadata": {},
   "outputs": [],
   "source": [
    "a = net.params_mean[0] \n",
    "b = net.params_mean[1]\n",
    "num = 0\n",
    "for idx in range(len(a)):\n",
    "    num += np.sum(a[idx]==b[idx])\n",
    "print(num)\n"
   ]
  },
  {
   "cell_type": "code",
   "execution_count": null,
   "metadata": {},
   "outputs": [],
   "source": [
    "print(net.num_merged_params, net.num_merged_params  / 42310 /2)\n"
   ]
  },
  {
   "cell_type": "code",
   "execution_count": null,
   "metadata": {},
   "outputs": [],
   "source": [
    "em_train(net,sess,num_epochs,20,train_task,test_task,train_init,test_init,lams=[0.001],\n",
    "         num_component=5,num_thresh_hold=0.2,sequential=False)"
   ]
  },
  {
   "cell_type": "code",
   "execution_count": null,
   "metadata": {},
   "outputs": [],
   "source": [
    "em_train(net,sess,num_epochs,20,train_task,test_task,train_init,test_init,lams=[0.001],\n",
    "         num_component=4,num_thresh_hold=0.25,sequential=True)"
   ]
  },
  {
   "cell_type": "code",
   "execution_count": null,
   "metadata": {},
   "outputs": [],
   "source": [
    "em_train(net,sess,num_epochs,20,train_task,test_task,train_init,test_init,lams=[0.001],\n",
    "         num_component=3,num_thresh_hold=0.33,sequential=True)"
   ]
  },
  {
   "cell_type": "code",
   "execution_count": null,
   "metadata": {},
   "outputs": [],
   "source": [
    "em_train(net,sess,num_epochs,20,train_task,test_task,train_init,test_init,lams=[0.001],\n",
    "         num_component=2,num_thresh_hold=0.4,sequential=True)"
   ]
  },
  {
   "cell_type": "code",
   "execution_count": null,
   "metadata": {},
   "outputs": [],
   "source": [
    "em_train(net,sess,num_epochs,20,train_task,test_task,train_init,test_init,lams=[0.001],\n",
    "         num_component=1,num_thresh_hold=0.0,sequential=True)"
   ]
  },
  {
   "cell_type": "code",
   "execution_count": null,
   "metadata": {},
   "outputs": [],
   "source": [
    "net.print_sampled()"
   ]
  },
  {
   "cell_type": "code",
   "execution_count": null,
   "metadata": {},
   "outputs": [],
   "source": []
  }
 ],
 "metadata": {
  "kernelspec": {
   "display_name": "Python 3",
   "language": "python",
   "name": "python3"
  },
  "language_info": {
   "codemirror_mode": {
    "name": "ipython",
    "version": 3
   },
   "file_extension": ".py",
   "mimetype": "text/x-python",
   "name": "python",
   "nbconvert_exporter": "python",
   "pygments_lexer": "ipython3",
   "version": "3.6.8"
  }
 },
 "nbformat": 4,
 "nbformat_minor": 2
}
